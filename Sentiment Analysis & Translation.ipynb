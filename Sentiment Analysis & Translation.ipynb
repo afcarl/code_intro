{
 "cells": [
  {
   "cell_type": "code",
   "execution_count": 5,
   "metadata": {
    "collapsed": false
   },
   "outputs": [
    {
     "name": "stdout",
     "output_type": "stream",
     "text": [
      "This sucks. -> -0.3\n",
      "This is great. -> 0.8\n",
      "Esto apesta. Esto es genial.\n"
     ]
    }
   ],
   "source": [
    "from textblob import TextBlob\n",
    "\n",
    "# Process the text\n",
    "text = 'This sucks. This is great.'\n",
    "blob = TextBlob(text)\n",
    "\n",
    "# Sentiment analysis\n",
    "for sentence in blob.sentences:\n",
    "    # print the polarity of the sentence\n",
    "    print(sentence, '->', sentence.sentiment.polarity)\n",
    "\n",
    "# Translation (quality may be meh)\n",
    "translated = blob.translate(to=\"es\")\n",
    "print(translated.raw)"
   ]
  },
  {
   "cell_type": "code",
   "execution_count": null,
   "metadata": {
    "collapsed": true
   },
   "outputs": [],
   "source": []
  }
 ],
 "metadata": {
  "kernelspec": {
   "display_name": "Python 3",
   "language": "python",
   "name": "python3"
  },
  "language_info": {
   "codemirror_mode": {
    "name": "ipython",
    "version": 3
   },
   "file_extension": ".py",
   "mimetype": "text/x-python",
   "name": "python",
   "nbconvert_exporter": "python",
   "pygments_lexer": "ipython3",
   "version": "3.5.2"
  }
 },
 "nbformat": 4,
 "nbformat_minor": 2
}
