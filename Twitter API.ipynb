{
 "cells": [
  {
   "cell_type": "markdown",
   "metadata": {},
   "source": [
    "# Using the Twitter API\n",
    "\n",
    "Twitter has what's called an \"API\", which stands for \"Application Programming Interface\". It lets us use Twitter through code. In our case, we're using Python code.\n",
    "\n",
    "With the API we can do basically anything we could normally do on Twitter. We can post tweets, search tweets, favorite, retweet, follow, or unfollow, block or mute, and so on. The only difference is that instead of clicking on interface elements, we write a line or two of code.\n",
    "\n",
    "Why is this useful? It let's us leverage the speed of a computer to do things that would take us hours, days, or even weeks to do otherwise.\n",
    "\n",
    "For instance, if we wanted to map out a Twitter bot net, we could click around until we find a bot, then manually sift through its followers to find more bots, then sift through the followers of those bots, and so on.\n",
    "\n",
    "Or we could write 10 or so lines of code and have the computer do the same thing in a matter of seconds.\n",
    "\n",
    "## A note on comments\n",
    "\n",
    "A line of code that starts with `#` is called a _comment_. It just means that Python ignores that line. We can use it to write notes about what a piece of code does. Or we can use it to temporarily turn off a line of code.\n",
    "\n",
    "---\n",
    "\n",
    "## Tips\n",
    "\n",
    "Try changing stuff and seeing what happens! It's the best way to learn programming. You won't be able to \"break\" anything so don't worry about that.\n",
    "\n",
    "<img src=\"https://s-media-cache-ak0.pinimg.com/originals/a3/0a/68/a30a68dcdf20ae4730f4c864a6e2875c.jpg\" width=280>\n",
    "\n",
    "If you encounter an error, copy and paste it into Google: often you'll see that someone ran into the same issue and posted an answer on how to fix it.\n",
    "\n",
    "<img src=\"https://pbs.twimg.com/media/CfEhcE3VIAE5ePS.jpg\" width=280>\n",
    "\n",
    "If you really get stuck, send me an email and I'll see what I can do."
   ]
  },
  {
   "cell_type": "markdown",
   "metadata": {},
   "source": [
    "## A note on rate-limits\n",
    "\n",
    "Before we go any further, we have to talk about _rate-limits_. Twitter's API is rate-limited, which means we can only take a certain amount of actions in a given period of time. Twitter does this to prevent spam.\n",
    "\n",
    "This means if we do anything too fast or too much in a span of a few minutes (like if we lookup too many Twitter users at once), Twitter will temporarily block us (for as long as 15 minutes!) and we'll get an error in our program.\n",
    "\n",
    "This is really inconvenient, so we need a small workaround that will help us avoid this. This is what the code below does.\n",
    "\n",
    "It's not important that you understand this code, but __*it is important that you run it first!*__"
   ]
  },
  {
   "cell_type": "code",
   "execution_count": 1,
   "metadata": {
    "collapsed": false
   },
   "outputs": [],
   "source": [
    "import requests_cache\n",
    "requests_cache.install_cache('/tmp/twitter.cache', backend='sqlite', expire_after=60*60*24*7) # expire after one week"
   ]
  },
  {
   "cell_type": "code",
   "execution_count": 2,
   "metadata": {
    "collapsed": true
   },
   "outputs": [],
   "source": [
    "# set your authentication info\n",
    "CONSUMER_KEY='<YOUR CONSUMER KEY>'\n",
    "CONSUMER_SECRET='<YOUR CONSUMER SECRET>'\n",
    "ACCESS_TOKEN='<YOUR ACCESS TOKEN>'\n",
    "ACCESS_TOKEN_SECRET='<YOUR ACCESS TOKEN SECRET>'"
   ]
  },
  {
   "cell_type": "markdown",
   "metadata": {},
   "source": [
    "Below we'll create the API object that lets us use the Twitter API.\n",
    "\n",
    "We pass in our authentication info to \"login\" to the API.\n",
    "\n",
    "We also specify `sleep_on_rate_limit=True` which tells the program to wait when we hit the rate limit instead of giving an error."
   ]
  },
  {
   "cell_type": "code",
   "execution_count": 3,
   "metadata": {
    "collapsed": false
   },
   "outputs": [
    {
     "data": {
      "text/plain": [
       "User(ID=354161158, ScreenName=frnsys)"
      ]
     },
     "execution_count": 3,
     "metadata": {},
     "output_type": "execute_result"
    }
   ],
   "source": [
    "# import the `twitter` library.\n",
    "# libraries give us access to code others\n",
    "# have written, so we don't have to write as much ourselves.\n",
    "import twitter\n",
    "\n",
    "api = twitter.Api(consumer_key=CONSUMER_KEY,\n",
    "                  consumer_secret=CONSUMER_SECRET,\n",
    "                  access_token_key=ACCESS_TOKEN,\n",
    "                  access_token_secret=ACCESS_TOKEN_SECRET,\n",
    "                  sleep_on_rate_limit=True)\n",
    "\n",
    "# see who you're logged in as\n",
    "api.VerifyCredentials()"
   ]
  },
  {
   "cell_type": "markdown",
   "metadata": {},
   "source": [
    "Now we're logged into the API! We can start using it.\n",
    "\n",
    "For example, we may want to fetch some tweets. There are several ways we can do this:\n",
    "\n",
    "- we can get tweets from our own timeline by using `api.GetUserTimeline()`\n",
    "- we can get tweets for a specific user by using `api.GetUserTimeline(screen_name='rihanna')` (replacing `rihanna` with another username if you'd like)\n",
    "- we can get tweets by searching by using `api.GetSearch('catalonia', result_type='popular')` (replacing `catalonia` with another search term -- this can be an @ mention, a hashtag, etc)\n",
    "    - `result_type` can also be `recent` or `mixed`\n",
    "\n",
    "Each of these gives us back a list of tweets.\n",
    "\n",
    "Below we'll get tweets for a search term and store the results in a `tweets` variable."
   ]
  },
  {
   "cell_type": "code",
   "execution_count": null,
   "metadata": {
    "collapsed": true
   },
   "outputs": [],
   "source": [
    "# search for tweets\n",
    "tweets = api.GetSearch('catalonia', result_type='popular', count=100)"
   ]
  },
  {
   "cell_type": "code",
   "execution_count": null,
   "metadata": {
    "collapsed": false
   },
   "outputs": [],
   "source": [
    "# show the text of each tweet we saved\n",
    "for t in tweets:\n",
    "    print(t.text)"
   ]
  },
  {
   "cell_type": "markdown",
   "metadata": {},
   "source": [
    "Another powerful thing we can do with the Twitter API is see who a person is following and who they're followed by:"
   ]
  },
  {
   "cell_type": "code",
   "execution_count": null,
   "metadata": {
    "collapsed": false,
    "scrolled": true
   },
   "outputs": [],
   "source": [
    "# get the user ids of someone's followers\n",
    "_, _, follower_ids = api.GetFollowerIDsPaged(screen_name='rihanna')\n",
    "followers = api.UsersLookup(user_id=follower_ids[:100])\n",
    "print(followers)"
   ]
  },
  {
   "cell_type": "code",
   "execution_count": null,
   "metadata": {
    "collapsed": false
   },
   "outputs": [],
   "source": [
    "# get the user ids of someone's friends (who they follow)\n",
    "_, _, friend_ids = api.GetFriendIDsPaged(screen_name='rihanna')\n",
    "friends = api.UsersLookup(user_id=friend_ids[:100])\n",
    "print(friends)"
   ]
  },
  {
   "cell_type": "code",
   "execution_count": null,
   "metadata": {
    "collapsed": true
   },
   "outputs": [],
   "source": [
    "# according to our criteria,\n",
    "# a user might be a bot if their last name ends with 8 digits.\n",
    "# this function will return True if a user's name ends with 8 digits.\n",
    "def maybe_bot(user):\n",
    "    last_8 = user.screen_name[-8:]\n",
    "    try:\n",
    "        int(last_8)\n",
    "        return True\n",
    "    except ValueError:\n",
    "        return False"
   ]
  }
 ],
 "metadata": {
  "kernelspec": {
   "display_name": "Python 3",
   "language": "python",
   "name": "python3"
  },
  "language_info": {
   "codemirror_mode": {
    "name": "ipython",
    "version": 3
   },
   "file_extension": ".py",
   "mimetype": "text/x-python",
   "name": "python",
   "nbconvert_exporter": "python",
   "pygments_lexer": "ipython3",
   "version": "3.5.2"
  }
 },
 "nbformat": 4,
 "nbformat_minor": 2
}
