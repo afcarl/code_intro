{
 "cells": [
  {
   "cell_type": "markdown",
   "metadata": {},
   "source": [
    "# Programming bots\n",
    "\n",
    "As we've seen so far, bots are now a common feature of the internet -- and social media especially -- engaging in activities ranging from the political to the artistic.\n",
    "\n",
    "Today we're going to experiment with our own bots using _Slack_, a chat room application, and a Python library called _Tracery_, which makes it easy for us to define what the bot should say.\n",
    "\n",
    "We won't be creating bots meant to interfere with or influence politics, but we'll encounter many of the same fundamental concepts.\n",
    "\n",
    "## Setting up\n",
    "\n",
    "First, I'll invite you to the Slack chat by email.\n",
    "\n",
    "Once you login, we need to setup our individual bots:\n",
    "\n",
    "1. Go to <https://api.slack.com/apps>\n",
    "2. Click \"Create App\"\n",
    "    1. Enter your name for \"App Name\"\n",
    "    2. Select \"botfarm\" as the \"Development Slack Workspace\".\n",
    "    3. Click \"Create App\".\n",
    "4. Under \"Add features and functionality\", click \"Bots\".\n",
    "5. Click \"Add a Bot User\".\n",
    "    1. Give it a display name and username of your choice.\n",
    "    2. Replace `<YOUR BOT USERNAME>` below with the bot's username).\n",
    "    3. Click \"Add Bot User\".\n",
    "6. Under the \"Features\" sidebar, click \"OAuth & Permissions\"\n",
    "7. Click \"Install App to Workspace\", then click \"Authorize\".\n",
    "8. On this page, replace the `<YOUR TOKEN>` code below with your \"Bot User OAuth Access Token\".\n",
    "\n",
    "Then let me know your bot name and I'll invite it to our bots channel.\n",
    "\n",
    "---\n",
    "\n",
    "The code below will authorize you with the Slack API. Like with the Twitter API, this lets us use Slack via Python."
   ]
  },
  {
   "cell_type": "code",
   "execution_count": null,
   "metadata": {
    "collapsed": false
   },
   "outputs": [],
   "source": [
    "TOKEN = '<YOUR TOKEN>'\n",
    "USERNAME = '<YOUR BOT USERNAME>'\n",
    "from slackclient import SlackClient\n",
    "sc = SlackClient(TOKEN)"
   ]
  },
  {
   "cell_type": "markdown",
   "metadata": {},
   "source": [
    "Once we login to the Slack API, we need to get our bot's user ID.\n",
    "\n",
    "This is so we prevent it from responding to its own messages (which would lead to an infinite recursion, i.e. the bot would just keep responding to itself infinitely)."
   ]
  },
  {
   "cell_type": "code",
   "execution_count": null,
   "metadata": {
    "collapsed": true
   },
   "outputs": [],
   "source": [
    "def get_user_id(username):\n",
    "    # get all users on the team, incl. bots\n",
    "    users = sc.api_call('users.list')\n",
    "    # look for a user with the specified username\n",
    "    for user in users['members']:\n",
    "        if user['name'] == username:\n",
    "            return user['id']\n",
    "        \n",
    "bot_id = get_user_id(USERNAME)"
   ]
  },
  {
   "cell_type": "markdown",
   "metadata": {},
   "source": [
    "In the next block are some functions to help us build our bot.\n",
    "\n",
    "We won't work with these directly, and you don't need to worry about how they work at this point. So just run this block and then go on to the next one.\n",
    "\n",
    "The one function here that we will call later is `start_bot`, which, as you'd expect, starts the bot."
   ]
  },
  {
   "cell_type": "code",
   "execution_count": 29,
   "metadata": {
    "collapsed": false,
    "scrolled": true
   },
   "outputs": [],
   "source": [
    "import time\n",
    "\n",
    "# have the bot say something in the `bots` channel\n",
    "def say(text):\n",
    "    kwargs = {\n",
    "        'channel': 'bots',\n",
    "        'text': text,\n",
    "        'as_user': True\n",
    "    }\n",
    "    return sc.api_call('chat.postMessage', **kwargs)\n",
    "\n",
    "# the bot uses this to monitor the channel\n",
    "# so it knows when it should do something\n",
    "def handle_message(ignore_bots):\n",
    "    # events: <https://api.slack.com/events>\n",
    "    events = sc.rtm_read()\n",
    "    # for each chat event\n",
    "    for ev in events:\n",
    "        # respond to a user msg\n",
    "        if ev['type'] == 'message' and 'text' in ev:\n",
    "            # if the speaking user is the bot, ignore\n",
    "            # so it doesn't respond to itself\n",
    "            if ev['user'] == bot_id:\n",
    "                continue\n",
    "            \n",
    "            # if ignore_bots and the message\n",
    "            # is from a bot, ignore\n",
    "            if ignore_bots and 'bot_id' in ev:\n",
    "                continue\n",
    "                \n",
    "            # otherwise, call `on_message` with the message text\n",
    "            resp = on_message(ev['text'])\n",
    "            if resp is not None:\n",
    "                say(resp)\n",
    "                \n",
    "# use this to start the bot.\n",
    "# this will loop infinitely,\n",
    "# showing an asterisk (*) for the block you run it in.\n",
    "# To stop your bot, select in the menu: Kernel > Interrupt.\n",
    "def start_bot(ignore_bots=False):\n",
    "    if sc.rtm_connect():\n",
    "        print('bot started!')\n",
    "        try:\n",
    "            while True:\n",
    "                handle_message(ignore_bots=False)\n",
    "                time.sleep(1)\n",
    "        except KeyboardInterrupt:\n",
    "            print('stopping!')\n",
    "    else:\n",
    "        print(\"Connection Failed, invalid token?\") "
   ]
  },
  {
   "cell_type": "markdown",
   "metadata": {},
   "source": [
    "# Defining your bot\n",
    "\n",
    "In the next block is a function called `on_message`. When someone (either a person or another bot) says something in the `bots` channel, your bot will look at that message (as the `msg` variable), and then you can define how it should respond (if at all).\n",
    "\n",
    "We will spend most of our time with this function, re-writing it to do what we want.\n",
    "\n",
    "Whenever you update the function, re-rerun its block, and then run `start_bot()`."
   ]
  },
  {
   "cell_type": "code",
   "execution_count": null,
   "metadata": {
    "collapsed": true
   },
   "outputs": [],
   "source": [
    "# this defines how the bot responds to a message\n",
    "def on_message(msg):\n",
    "    print(msg)\n",
    "    return 'hi'"
   ]
  },
  {
   "cell_type": "markdown",
   "metadata": {},
   "source": [
    "Once we define our `on_message` function, we start up our bot below.\n",
    "\n",
    "This function loops infinitely (because the bot is constantly checking for new messages in the chat), so it's a little tricky to stop.\n",
    "\n",
    "To do so, in the menu at the top of this page select \"Kernel\", and then \"Interrupt\". You should see your bot print out 'stopping!'."
   ]
  },
  {
   "cell_type": "code",
   "execution_count": null,
   "metadata": {
    "collapsed": false,
    "scrolled": false
   },
   "outputs": [],
   "source": [
    "# start the bot!\n",
    "# this will loop infinitely, which can make it tricky to stop.\n",
    "start_bot()"
   ]
  },
  {
   "cell_type": "markdown",
   "metadata": {},
   "source": [
    "---\n",
    "\n",
    "## Exercises\n",
    "\n",
    "(if you get stuck, refer to the `Python Tips` notebook. Everything that you need here is covered in there.)\n",
    "\n",
    "1. Update your bot so that it responds to \"hello\" with \"hi there\"\n",
    "2. Update your bot so that it responds to \"Hello\" and \"hello\" with \"hi there\"\n",
    "3. Update your bot so that it responds to any of \"hello\", \"hey\", and \"howdy\" with \"hi there\", ignoring case\n",
    "4. Update your bot so that it responds as in exercise 3, but also so that it responds to any of \"goodbye\" and \"bye\" with \"cya\""
   ]
  },
  {
   "cell_type": "code",
   "execution_count": null,
   "metadata": {
    "collapsed": true
   },
   "outputs": [],
   "source": []
  },
  {
   "cell_type": "markdown",
   "metadata": {},
   "source": [
    "# Using Tracery\n",
    "\n",
    "[Tracery](https://github.com/aparrish/pytracery) is a library, originally written by Kate Compton and ported to Python by Allison Parrish, that allows us to define \"grammars\" which can make our bots respond in interesting ways.\n",
    "\n",
    "Let's first look at an example of using Tracery."
   ]
  },
  {
   "cell_type": "code",
   "execution_count": 32,
   "metadata": {
    "collapsed": false
   },
   "outputs": [],
   "source": [
    "# setup tracery\n",
    "import tracery\n",
    "from tracery.modifiers import base_english\n",
    "\n",
    "# create a grammar from a set of rules\n",
    "def create_grammar(rules):\n",
    "    grammar = tracery.Grammar(rules)\n",
    "    grammar.add_modifiers(base_english)\n",
    "    return grammar"
   ]
  },
  {
   "cell_type": "markdown",
   "metadata": {},
   "source": [
    "Tracery works by defining _rules_ which are keywords that expand into other words or rules. Collectively, these rules are called a \"grammar\".\n",
    "\n",
    "In Python, these rules are dictionaries (refresher: a dictionary maps keys to values, like the more familiar dictionary maps words to definitions).\n",
    "\n",
    "These rule keywords are used by placing hashtags around them. For example, we might have a rule called \"animal\" which expands to one of \"cat\", \"dog\", or \"horse\". To refer to the rule, we'd use \"`#animal#`\".\n",
    "\n",
    "Below is an example adapted from the Tracery documentation:"
   ]
  },
  {
   "cell_type": "code",
   "execution_count": 38,
   "metadata": {
    "collapsed": false
   },
   "outputs": [
    {
     "data": {
      "text/plain": [
       "'greetings, galaxy!'"
      ]
     },
     "execution_count": 38,
     "metadata": {},
     "output_type": "execute_result"
    }
   ],
   "source": [
    "rules = {\n",
    "    'start': '#hello#, #location#!',\n",
    "    'hello': ['hello', 'greetings', 'howdy', 'hey'],\n",
    "    'location': ['world', 'solar system', 'galaxy', 'universe']\n",
    "}\n",
    "grammar = create_grammar(rules)\n",
    "grammar.flatten(\"#start#\")"
   ]
  },
  {
   "cell_type": "markdown",
   "metadata": {},
   "source": [
    "Here's what we did here:\n",
    "\n",
    "1. We defined our rules dictionary. Here our rule keywords are \"start\", \"hello\", and \"location\".\n",
    "2. We create the grammar by passing our `rules` variable into the `create_grammar` function.\n",
    "3. We then use the grammar to generate text with its `flatten` method, passing in the rule we want to start with (`#start#`).\n",
    "\n",
    "We could use any of the other rules to start with as well!"
   ]
  },
  {
   "cell_type": "code",
   "execution_count": 36,
   "metadata": {
    "collapsed": false
   },
   "outputs": [
    {
     "data": {
      "text/plain": [
       "'howdy'"
      ]
     },
     "execution_count": 36,
     "metadata": {},
     "output_type": "execute_result"
    }
   ],
   "source": [
    "grammar.flatten(\"#hello#\")"
   ]
  },
  {
   "cell_type": "markdown",
   "metadata": {},
   "source": [
    "We can take the resulting string and make our bot say it:"
   ]
  },
  {
   "cell_type": "code",
   "execution_count": 39,
   "metadata": {
    "collapsed": false
   },
   "outputs": [
    {
     "data": {
      "text/plain": [
       "{'channel': 'C7J7L0SH4',\n",
       " 'message': {'bot_id': 'B7HC77TEY',\n",
       "  'text': 'howdy, world!',\n",
       "  'ts': '1507820470.000331',\n",
       "  'type': 'message',\n",
       "  'user': 'U7HC77TGU'},\n",
       " 'ok': True,\n",
       " 'ts': '1507820470.000331'}"
      ]
     },
     "execution_count": 39,
     "metadata": {},
     "output_type": "execute_result"
    }
   ],
   "source": [
    "message = grammar.flatten(\"#start#\")\n",
    "say(message)"
   ]
  },
  {
   "cell_type": "markdown",
   "metadata": {},
   "source": [
    "## Exercise\n",
    "\n",
    "Try creating your own \"story generator\" using Tracery, then have your bot tell us the story.\n",
    "\n",
    "(We'll start the exercise together)"
   ]
  },
  {
   "cell_type": "code",
   "execution_count": null,
   "metadata": {
    "collapsed": true
   },
   "outputs": [],
   "source": []
  },
  {
   "cell_type": "markdown",
   "metadata": {},
   "source": [
    "## Combining bots with Tracery\n",
    "\n",
    "We can use a grammar we create to drive how a bot responds to messages in Slack, e.g.:\n",
    "\n",
    "```python\n",
    "rules = {\n",
    "    'start': 'hey, #greeting# #punctuation#',\n",
    "    'greeting': ['friend', 'nice weather', 'how are you'],\n",
    "    'punctuation': ['?', '!', '!!', '?!?']\n",
    "}\n",
    "grammar = create_grammar(rules)\n",
    "\n",
    "def on_message(msg):\n",
    "    if 'hello' in msg:\n",
    "        return grammar.flatten('#start#')\n",
    "```\n",
    "\n",
    "## Exercise\n",
    "\n",
    "See if you can get your bots talking to each other!"
   ]
  },
  {
   "cell_type": "code",
   "execution_count": null,
   "metadata": {
    "collapsed": true
   },
   "outputs": [],
   "source": []
  },
  {
   "cell_type": "markdown",
   "metadata": {},
   "source": [
    "## Challenge\n",
    "\n",
    "### Can we get our bots to collectively tell a story?"
   ]
  },
  {
   "cell_type": "code",
   "execution_count": null,
   "metadata": {
    "collapsed": true
   },
   "outputs": [],
   "source": []
  }
 ],
 "metadata": {
  "kernelspec": {
   "display_name": "Python 3",
   "language": "python",
   "name": "python3"
  },
  "language_info": {
   "codemirror_mode": {
    "name": "ipython",
    "version": 3
   },
   "file_extension": ".py",
   "mimetype": "text/x-python",
   "name": "python",
   "nbconvert_exporter": "python",
   "pygments_lexer": "ipython3",
   "version": "3.5.2"
  }
 },
 "nbformat": 4,
 "nbformat_minor": 1
}
